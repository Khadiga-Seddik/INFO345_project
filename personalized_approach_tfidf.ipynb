{
 "cells": [
  {
   "cell_type": "markdown",
   "id": "b9fc437c",
   "metadata": {},
   "source": [
    "In this approach we will use article title and calculate TF-IDF<br>"
   ]
  },
  {
   "cell_type": "code",
   "execution_count": 1,
   "id": "1988ff55",
   "metadata": {
    "scrolled": true
   },
   "outputs": [],
   "source": [
    "import pandas as pd\n",
    "\n",
    "df = pd.read_csv('../dataset/corpus_with_parties_NE_24.10.2022.csv')\n",
    "df = df.iloc[: , 3:]"
   ]
  },
  {
   "cell_type": "code",
   "execution_count": 2,
   "id": "989ff822",
   "metadata": {},
   "outputs": [
    {
     "data": {
      "text/plain": [
       "(2964, 45635)"
      ]
     },
     "execution_count": 2,
     "metadata": {},
     "output_type": "execute_result"
    }
   ],
   "source": [
    "from sklearn.feature_extraction.text import TfidfVectorizer\n",
    "\n",
    "tfidf = TfidfVectorizer(stop_words='english')\n",
    "df['text'] = df['text'].fillna('')\n",
    "tfidf_matrix = tfidf.fit_transform(df['text'])\n",
    "\n",
    "tfidf_matrix.shape"
   ]
  },
  {
   "cell_type": "code",
   "execution_count": 3,
   "id": "b04a2375",
   "metadata": {},
   "outputs": [
    {
     "data": {
      "text/plain": [
       "array([[1.        , 0.25934393, 0.2659679 , ..., 0.09162891, 0.18282889,\n",
       "        0.17750835],\n",
       "       [0.25934393, 1.        , 0.16459576, ..., 0.06498178, 0.12689686,\n",
       "        0.1250026 ],\n",
       "       [0.2659679 , 0.16459576, 1.        , ..., 0.09665606, 0.14867722,\n",
       "        0.16977711],\n",
       "       ...,\n",
       "       [0.09162891, 0.06498178, 0.09665606, ..., 1.        , 0.14474802,\n",
       "        0.08423845],\n",
       "       [0.18282889, 0.12689686, 0.14867722, ..., 0.14474802, 1.        ,\n",
       "        0.14936205],\n",
       "       [0.17750835, 0.1250026 , 0.16977711, ..., 0.08423845, 0.14936205,\n",
       "        1.        ]])"
      ]
     },
     "execution_count": 3,
     "metadata": {},
     "output_type": "execute_result"
    }
   ],
   "source": [
    "from sklearn.metrics.pairwise import linear_kernel\n",
    "\n",
    "cosine_sim = linear_kernel(tfidf_matrix, tfidf_matrix)\n",
    "cosine_sim"
   ]
  },
  {
   "cell_type": "code",
   "execution_count": 4,
   "id": "e858c2db",
   "metadata": {},
   "outputs": [
    {
     "data": {
      "text/plain": [
       "title\n",
       "Obama, Biden rally Democrats at annual retreat                                    0\n",
       "Republicans call Obama’s budget a reelection ‘gimmick’                            1\n",
       "Republicans aim to turn congressional wins into seats after redistricting         2\n",
       "Illinois Democrats push out a Republican House incumbent                          3\n",
       "Paul Ryan budget proposal sparks criticism from Democrats and some Republicans    4\n",
       "dtype: int64"
      ]
     },
     "execution_count": 4,
     "metadata": {},
     "output_type": "execute_result"
    }
   ],
   "source": [
    "indices = pd.Series(df.index, index=df['title']).drop_duplicates()\n",
    "indices.head(5)"
   ]
  },
  {
   "cell_type": "code",
   "execution_count": 5,
   "id": "c82e574d",
   "metadata": {},
   "outputs": [],
   "source": [
    "def content_recommender(title, cosine_sim, df, indices):\n",
    "\n",
    "    idx = indices[title]\n",
    "    sim_scores = list(enumerate(cosine_sim[idx]))\n",
    "    sim_scores = sorted(sim_scores, key=lambda x: x[1], reverse=True)\n",
    "    sim_scores = sim_scores[1:11]\n",
    "    article_indices = [i[0] for i in sim_scores]\n",
    "    \n",
    "    return df[['title','parties']].iloc[article_indices]"
   ]
  },
  {
   "cell_type": "code",
   "execution_count": 6,
   "id": "52660367",
   "metadata": {},
   "outputs": [
    {
     "data": {
      "text/html": [
       "<div>\n",
       "<style scoped>\n",
       "    .dataframe tbody tr th:only-of-type {\n",
       "        vertical-align: middle;\n",
       "    }\n",
       "\n",
       "    .dataframe tbody tr th {\n",
       "        vertical-align: top;\n",
       "    }\n",
       "\n",
       "    .dataframe thead th {\n",
       "        text-align: right;\n",
       "    }\n",
       "</style>\n",
       "<table border=\"1\" class=\"dataframe\">\n",
       "  <thead>\n",
       "    <tr style=\"text-align: right;\">\n",
       "      <th></th>\n",
       "      <th>title</th>\n",
       "      <th>parties</th>\n",
       "    </tr>\n",
       "  </thead>\n",
       "  <tbody>\n",
       "    <tr>\n",
       "      <th>1762</th>\n",
       "      <td>Why Democrats can’t just obstruct their way ba...</td>\n",
       "      <td>['Democrats']</td>\n",
       "    </tr>\n",
       "    <tr>\n",
       "      <th>454</th>\n",
       "      <td>Republicans bet the House on staying on offense</td>\n",
       "      <td>['Republicans']</td>\n",
       "    </tr>\n",
       "    <tr>\n",
       "      <th>1543</th>\n",
       "      <td>The Republicans’ big gerrymander could backfir...</td>\n",
       "      <td>['Republicans']</td>\n",
       "    </tr>\n",
       "    <tr>\n",
       "      <th>906</th>\n",
       "      <td>Democrats have a depth problem</td>\n",
       "      <td>['Democrats']</td>\n",
       "    </tr>\n",
       "    <tr>\n",
       "      <th>272</th>\n",
       "      <td>Republicans poised to maintain control of the ...</td>\n",
       "      <td>['Republicans']</td>\n",
       "    </tr>\n",
       "    <tr>\n",
       "      <th>985</th>\n",
       "      <td>Which election was worse for Democrats: 2010 o...</td>\n",
       "      <td>['Democrats']</td>\n",
       "    </tr>\n",
       "    <tr>\n",
       "      <th>880</th>\n",
       "      <td>The one thing that unites Republicans? Calls f...</td>\n",
       "      <td>['Republicans']</td>\n",
       "    </tr>\n",
       "    <tr>\n",
       "      <th>2930</th>\n",
       "      <td>California just proved how cracking down on ge...</td>\n",
       "      <td>[]</td>\n",
       "    </tr>\n",
       "    <tr>\n",
       "      <th>2752</th>\n",
       "      <td>The 4 most severely undersold political storie...</td>\n",
       "      <td>[]</td>\n",
       "    </tr>\n",
       "    <tr>\n",
       "      <th>352</th>\n",
       "      <td>Democrats partner with political newcomers aim...</td>\n",
       "      <td>['Democrats']</td>\n",
       "    </tr>\n",
       "  </tbody>\n",
       "</table>\n",
       "</div>"
      ],
      "text/plain": [
       "                                                  title          parties\n",
       "1762  Why Democrats can’t just obstruct their way ba...    ['Democrats']\n",
       "454     Republicans bet the House on staying on offense  ['Republicans']\n",
       "1543  The Republicans’ big gerrymander could backfir...  ['Republicans']\n",
       "906                      Democrats have a depth problem    ['Democrats']\n",
       "272   Republicans poised to maintain control of the ...  ['Republicans']\n",
       "985   Which election was worse for Democrats: 2010 o...    ['Democrats']\n",
       "880   The one thing that unites Republicans? Calls f...  ['Republicans']\n",
       "2930  California just proved how cracking down on ge...               []\n",
       "2752  The 4 most severely undersold political storie...               []\n",
       "352   Democrats partner with political newcomers aim...    ['Democrats']"
      ]
     },
     "execution_count": 6,
     "metadata": {},
     "output_type": "execute_result"
    }
   ],
   "source": [
    "#Republiacn\n",
    "content_recommender('Republicans aim to turn congressional wins into seats after redistricting', cosine_sim, df, indices)"
   ]
  },
  {
   "cell_type": "code",
   "execution_count": 7,
   "id": "be9a97c8",
   "metadata": {},
   "outputs": [
    {
     "data": {
      "text/html": [
       "<div>\n",
       "<style scoped>\n",
       "    .dataframe tbody tr th:only-of-type {\n",
       "        vertical-align: middle;\n",
       "    }\n",
       "\n",
       "    .dataframe tbody tr th {\n",
       "        vertical-align: top;\n",
       "    }\n",
       "\n",
       "    .dataframe thead th {\n",
       "        text-align: right;\n",
       "    }\n",
       "</style>\n",
       "<table border=\"1\" class=\"dataframe\">\n",
       "  <thead>\n",
       "    <tr style=\"text-align: right;\">\n",
       "      <th></th>\n",
       "      <th>title</th>\n",
       "      <th>parties</th>\n",
       "    </tr>\n",
       "  </thead>\n",
       "  <tbody>\n",
       "    <tr>\n",
       "      <th>880</th>\n",
       "      <td>The one thing that unites Republicans? Calls f...</td>\n",
       "      <td>['Republicans']</td>\n",
       "    </tr>\n",
       "    <tr>\n",
       "      <th>110</th>\n",
       "      <td>Some Democrats worry about whether Obama’s cam...</td>\n",
       "      <td>['Democrats']</td>\n",
       "    </tr>\n",
       "    <tr>\n",
       "      <th>1522</th>\n",
       "      <td>The Daily 202: Democrats claim patriotism, God...</td>\n",
       "      <td>['Democrats']</td>\n",
       "    </tr>\n",
       "    <tr>\n",
       "      <th>121</th>\n",
       "      <td>Will Obama fade or fight as Republicans gain c...</td>\n",
       "      <td>['Republicans']</td>\n",
       "    </tr>\n",
       "    <tr>\n",
       "      <th>2057</th>\n",
       "      <td>The Daily 202: The South is ready to save Hill...</td>\n",
       "      <td>[]</td>\n",
       "    </tr>\n",
       "    <tr>\n",
       "      <th>504</th>\n",
       "      <td>The ‘fiscal cliff’s’ Most Valuable Republicans</td>\n",
       "      <td>['Republicans']</td>\n",
       "    </tr>\n",
       "    <tr>\n",
       "      <th>1926</th>\n",
       "      <td>The Daily 202: Senate Republicans want to get ...</td>\n",
       "      <td>['Republicans']</td>\n",
       "    </tr>\n",
       "    <tr>\n",
       "      <th>1330</th>\n",
       "      <td>Obama gives pep talk to House Democrats</td>\n",
       "      <td>['Democrats']</td>\n",
       "    </tr>\n",
       "    <tr>\n",
       "      <th>1351</th>\n",
       "      <td>The Daily 202: Why blocking Obama’s pick to re...</td>\n",
       "      <td>['Republicans']</td>\n",
       "    </tr>\n",
       "    <tr>\n",
       "      <th>70</th>\n",
       "      <td>Obama seeks to defuse tensions among Democrats</td>\n",
       "      <td>['Democrats']</td>\n",
       "    </tr>\n",
       "  </tbody>\n",
       "</table>\n",
       "</div>"
      ],
      "text/plain": [
       "                                                  title          parties\n",
       "880   The one thing that unites Republicans? Calls f...  ['Republicans']\n",
       "110   Some Democrats worry about whether Obama’s cam...    ['Democrats']\n",
       "1522  The Daily 202: Democrats claim patriotism, God...    ['Democrats']\n",
       "121   Will Obama fade or fight as Republicans gain c...  ['Republicans']\n",
       "2057  The Daily 202: The South is ready to save Hill...               []\n",
       "504      The ‘fiscal cliff’s’ Most Valuable Republicans  ['Republicans']\n",
       "1926  The Daily 202: Senate Republicans want to get ...  ['Republicans']\n",
       "1330            Obama gives pep talk to House Democrats    ['Democrats']\n",
       "1351  The Daily 202: Why blocking Obama’s pick to re...  ['Republicans']\n",
       "70       Obama seeks to defuse tensions among Democrats    ['Democrats']"
      ]
     },
     "execution_count": 7,
     "metadata": {},
     "output_type": "execute_result"
    }
   ],
   "source": [
    "#Democrats\n",
    "content_recommender('Obama, Biden rally Democrats at annual retreat', cosine_sim, df, indices)"
   ]
  },
  {
   "cell_type": "code",
   "execution_count": null,
   "id": "166e74aa",
   "metadata": {},
   "outputs": [],
   "source": []
  }
 ],
 "metadata": {
  "kernelspec": {
   "display_name": "info",
   "language": "python",
   "name": "info"
  },
  "language_info": {
   "codemirror_mode": {
    "name": "ipython",
    "version": 3
   },
   "file_extension": ".py",
   "mimetype": "text/x-python",
   "name": "python",
   "nbconvert_exporter": "python",
   "pygments_lexer": "ipython3",
   "version": "3.9.13"
  }
 },
 "nbformat": 4,
 "nbformat_minor": 5
}
