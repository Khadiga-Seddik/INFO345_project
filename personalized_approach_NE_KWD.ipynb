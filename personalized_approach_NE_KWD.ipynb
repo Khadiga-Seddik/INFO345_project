{
 "cells": [
  {
   "cell_type": "markdown",
   "id": "b9fc437c",
   "metadata": {},
   "source": [
    "In this approach we will use document metadata: named entities and keywords<br>\n",
    "    - We will read corpus_with_parties_NE_24.10.2022.csv<br>\n",
    "    - We will read keywords.csv"
   ]
  },
  {
   "cell_type": "code",
   "execution_count": null,
   "id": "1988ff55",
   "metadata": {
    "scrolled": true
   },
   "outputs": [],
   "source": [
    "import pandas as pd\n",
    "df = pd.read_csv('../dataset/corpus_with_parties_NE_24.10.2022.csv')"
   ]
  },
  {
   "cell_type": "code",
   "execution_count": null,
   "id": "786edc38",
   "metadata": {},
   "outputs": [],
   "source": [
    "kwd_df = pd.read_csv('../dataset/keywords.csv')\n",
    "kwd_df=kwd_df.iloc[: , 1:]\n",
    "kwd_df.head(3)"
   ]
  },
  {
   "cell_type": "code",
   "execution_count": null,
   "id": "7d22cf80",
   "metadata": {},
   "outputs": [],
   "source": [
    "df = df.merge(kwd_df, on='id')\n",
    "df.head(1)"
   ]
  },
  {
   "cell_type": "code",
   "execution_count": null,
   "id": "e550dad5",
   "metadata": {},
   "outputs": [],
   "source": [
    "# Convert df['NE'] and df['keywords'] to python List\n",
    "from ast import literal_eval\n",
    "\n",
    "features=['NE', 'keywords']\n",
    "\n",
    "for feature in features:\n",
    "    df[feature] = df[feature].astype(str)\n",
    "    df[feature]=df[feature].apply(literal_eval)\n",
    "df['keywords'].head(3)"
   ]
  },
  {
   "cell_type": "code",
   "execution_count": null,
   "id": "6bf1c815",
   "metadata": {},
   "outputs": [],
   "source": [
    "# Function to sanitize data\n",
    "def sanitize(ls):\n",
    "    if isinstance(ls, list):\n",
    "        x = [i for i in ls if len(i) > 1]\n",
    "        #Strip spaces and convert to lowercase\n",
    "        return [str.lower(i.replace(\" \", \"\").replace(\".\",\"\")) for i in x]\n",
    "    return ''\n",
    "\n",
    "df['NE'] = df['NE'].apply(sanitize)\n",
    "print(df['NE'].iloc[0])"
   ]
  },
  {
   "cell_type": "code",
   "execution_count": null,
   "id": "e1b570dc",
   "metadata": {},
   "outputs": [],
   "source": [
    "#merge NE with keywords in one column and remove duplicates\n",
    "df=df.reset_index(drop=True)\n",
    "\n",
    "SOUP=[]\n",
    "for index, row in df.iterrows():\n",
    "    soup_list=[]\n",
    "    soup_list=soup_list+row['NE']+row['keywords']\n",
    "    SOUP.append(soup_list)\n",
    "\n",
    "df['KWD_NE']=SOUP\n",
    "\n",
    "#remove duplicates\n",
    "def remove_duplicates(mlist):\n",
    "    return list(dict.fromkeys(mlist))\n",
    "\n",
    "df['KWD_NE'] = df['KWD_NE'].apply(remove_duplicates)\n",
    "print(df['KWD_NE'].iloc[0])"
   ]
  },
  {
   "cell_type": "code",
   "execution_count": null,
   "id": "52156fda",
   "metadata": {},
   "outputs": [],
   "source": [
    "#Create soup of NEs\n",
    "# df['soup'] = df['NE'].apply(lambda x: (' '.join(x)))\n",
    "# df['soup']\n",
    "\n",
    "#Create soup of df[KWD_NE]\n",
    "df['soup'] = df['KWD_NE'].apply(lambda x: (' '.join(x)))\n",
    "df['soup'].head(3)\n"
   ]
  },
  {
   "cell_type": "markdown",
   "id": "084ed274",
   "metadata": {},
   "source": [
    "WE will compute cosine similarity among df['soup'] items"
   ]
  },
  {
   "cell_type": "code",
   "execution_count": null,
   "id": "05c91062",
   "metadata": {},
   "outputs": [],
   "source": [
    "from sklearn.feature_extraction.text import CountVectorizer\n",
    "\n",
    "count = CountVectorizer(stop_words='english')\n",
    "count_matrix = count.fit_transform(df['soup'])"
   ]
  },
  {
   "cell_type": "code",
   "execution_count": null,
   "id": "21a0bae6",
   "metadata": {},
   "outputs": [],
   "source": [
    "from sklearn.metrics.pairwise import cosine_similarity\n",
    "cosine_sim2 = cosine_similarity(count_matrix, count_matrix)"
   ]
  },
  {
   "cell_type": "code",
   "execution_count": null,
   "id": "1eb36a91",
   "metadata": {},
   "outputs": [],
   "source": [
    "df = df.reset_index(drop=True)\n",
    "indices2 = pd.Series(df.index, index=df['title'])"
   ]
  },
  {
   "cell_type": "code",
   "execution_count": null,
   "id": "c82e574d",
   "metadata": {},
   "outputs": [],
   "source": [
    "def content_recommender(title, cosine_sim, df, indices):\n",
    "    \n",
    "    idx = indices[title]\n",
    "    sim_scores = list(enumerate(cosine_sim[idx]))\n",
    "    sim_scores = sorted(sim_scores, key=lambda x: x[1], reverse=True)\n",
    "    sim_scores = sim_scores[1:11]\n",
    "    article_indices = [i[0] for i in sim_scores]\n",
    "\n",
    "    return df.iloc[article_indices]"
   ]
  },
  {
   "cell_type": "code",
   "execution_count": 26,
   "id": "52660367",
   "metadata": {},
   "outputs": [
    {
     "data": {
      "text/html": [
       "<div>\n",
       "<style scoped>\n",
       "    .dataframe tbody tr th:only-of-type {\n",
       "        vertical-align: middle;\n",
       "    }\n",
       "\n",
       "    .dataframe tbody tr th {\n",
       "        vertical-align: top;\n",
       "    }\n",
       "\n",
       "    .dataframe thead th {\n",
       "        text-align: right;\n",
       "    }\n",
       "</style>\n",
       "<table border=\"1\" class=\"dataframe\">\n",
       "  <thead>\n",
       "    <tr style=\"text-align: right;\">\n",
       "      <th></th>\n",
       "      <th>title</th>\n",
       "      <th>parties</th>\n",
       "    </tr>\n",
       "  </thead>\n",
       "  <tbody>\n",
       "    <tr>\n",
       "      <th>388</th>\n",
       "      <td>Republicans who decried Obamacare secrecy now writing legislation in secret</td>\n",
       "      <td>['Republicans']</td>\n",
       "    </tr>\n",
       "    <tr>\n",
       "      <th>906</th>\n",
       "      <td>Democrats have a depth problem</td>\n",
       "      <td>['Democrats']</td>\n",
       "    </tr>\n",
       "    <tr>\n",
       "      <th>878</th>\n",
       "      <td>Republicans and Democrats agree: Their own member of Congress isn’t part of the problem</td>\n",
       "      <td>['Democrats', 'Republicans']</td>\n",
       "    </tr>\n",
       "    <tr>\n",
       "      <th>43</th>\n",
       "      <td>Shutdown means damage to the system, but greater risk for Republicans</td>\n",
       "      <td>['Republicans']</td>\n",
       "    </tr>\n",
       "    <tr>\n",
       "      <th>787</th>\n",
       "      <td>House Democrats need 27 signatures to force vote on comprehensive immigration reform bill</td>\n",
       "      <td>['Democrats']</td>\n",
       "    </tr>\n",
       "    <tr>\n",
       "      <th>1767</th>\n",
       "      <td>Republicans believe these 10 House incumbents will face the toughest campaigns of 2018</td>\n",
       "      <td>['Republicans']</td>\n",
       "    </tr>\n",
       "    <tr>\n",
       "      <th>1903</th>\n",
       "      <td>House GOP leaders warn Republicans about 2018: Watch out</td>\n",
       "      <td>['Republicans']</td>\n",
       "    </tr>\n",
       "    <tr>\n",
       "      <th>1798</th>\n",
       "      <td>House Republicans set fundraising record in President Trump’s first full month</td>\n",
       "      <td>['Republicans']</td>\n",
       "    </tr>\n",
       "    <tr>\n",
       "      <th>561</th>\n",
       "      <td>Why Republicans shouldn’t filibuster the gun bill</td>\n",
       "      <td>['Republicans']</td>\n",
       "    </tr>\n",
       "    <tr>\n",
       "      <th>1056</th>\n",
       "      <td>Early Census data shows electoral college advantage for Republicans</td>\n",
       "      <td>['Republicans']</td>\n",
       "    </tr>\n",
       "    <tr>\n",
       "      <th>42</th>\n",
       "      <td>House Republicans say they’ll act on immigration reform this year</td>\n",
       "      <td>['Republicans']</td>\n",
       "    </tr>\n",
       "    <tr>\n",
       "      <th>6</th>\n",
       "      <td>Congressional Republicans turn focus to gas prices</td>\n",
       "      <td>['Republicans']</td>\n",
       "    </tr>\n",
       "    <tr>\n",
       "      <th>1149</th>\n",
       "      <td>Democrats prepare for filibuster summer</td>\n",
       "      <td>['Democrats']</td>\n",
       "    </tr>\n",
       "    <tr>\n",
       "      <th>157</th>\n",
       "      <td>Pelosi shows Democrats how to wield power despite House GOP majority</td>\n",
       "      <td>['Democrats']</td>\n",
       "    </tr>\n",
       "    <tr>\n",
       "      <th>195</th>\n",
       "      <td>Undecided Democrats break in favor of Iran deal, likely forestalling need for Obama veto</td>\n",
       "      <td>['Democrats']</td>\n",
       "    </tr>\n",
       "    <tr>\n",
       "      <th>118</th>\n",
       "      <td>Midterm disaster rips apart awkward ties between Obama and Senate Democrats</td>\n",
       "      <td>['Democrats']</td>\n",
       "    </tr>\n",
       "    <tr>\n",
       "      <th>513</th>\n",
       "      <td>Senate Democrats promise to pass a budget. Why is this a big deal?</td>\n",
       "      <td>['Democrats']</td>\n",
       "    </tr>\n",
       "    <tr>\n",
       "      <th>505</th>\n",
       "      <td>Why Republicans think they’re winning the ‘fiscal cliff’</td>\n",
       "      <td>['Republicans']</td>\n",
       "    </tr>\n",
       "    <tr>\n",
       "      <th>1658</th>\n",
       "      <td>Poll: 65 percent of Democrats want party to ‘stand up’ to Trump</td>\n",
       "      <td>['Democrats']</td>\n",
       "    </tr>\n",
       "    <tr>\n",
       "      <th>178</th>\n",
       "      <td>Obama’s trade plan gets second wind but still faces fight from Democrats</td>\n",
       "      <td>['Democrats']</td>\n",
       "    </tr>\n",
       "  </tbody>\n",
       "</table>\n",
       "</div>"
      ],
      "text/plain": [
       "                                                                                          title  \\\n",
       "388   Republicans who decried Obamacare secrecy now writing legislation in secret                 \n",
       "906   Democrats have a depth problem                                                              \n",
       "878   Republicans and Democrats agree: Their own member of Congress isn’t part of the problem     \n",
       "43    Shutdown means damage to the system, but greater risk for Republicans                       \n",
       "787   House Democrats need 27 signatures to force vote on comprehensive immigration reform bill   \n",
       "1767  Republicans believe these 10 House incumbents will face the toughest campaigns of 2018      \n",
       "1903  House GOP leaders warn Republicans about 2018: Watch out                                    \n",
       "1798  House Republicans set fundraising record in President Trump’s first full month              \n",
       "561   Why Republicans shouldn’t filibuster the gun bill                                           \n",
       "1056  Early Census data shows electoral college advantage for Republicans                         \n",
       "42    House Republicans say they’ll act on immigration reform this year                           \n",
       "6     Congressional Republicans turn focus to gas prices                                          \n",
       "1149  Democrats prepare for filibuster summer                                                     \n",
       "157   Pelosi shows Democrats how to wield power despite House GOP majority                        \n",
       "195   Undecided Democrats break in favor of Iran deal, likely forestalling need for Obama veto    \n",
       "118   Midterm disaster rips apart awkward ties between Obama and Senate Democrats                 \n",
       "513   Senate Democrats promise to pass a budget. Why is this a big deal?                          \n",
       "505   Why Republicans think they’re winning the ‘fiscal cliff’                                    \n",
       "1658  Poll: 65 percent of Democrats want party to ‘stand up’ to Trump                             \n",
       "178   Obama’s trade plan gets second wind but still faces fight from Democrats                    \n",
       "\n",
       "                           parties  \n",
       "388   ['Republicans']               \n",
       "906   ['Democrats']                 \n",
       "878   ['Democrats', 'Republicans']  \n",
       "43    ['Republicans']               \n",
       "787   ['Democrats']                 \n",
       "1767  ['Republicans']               \n",
       "1903  ['Republicans']               \n",
       "1798  ['Republicans']               \n",
       "561   ['Republicans']               \n",
       "1056  ['Republicans']               \n",
       "42    ['Republicans']               \n",
       "6     ['Republicans']               \n",
       "1149  ['Democrats']                 \n",
       "157   ['Democrats']                 \n",
       "195   ['Democrats']                 \n",
       "118   ['Democrats']                 \n",
       "513   ['Democrats']                 \n",
       "505   ['Republicans']               \n",
       "1658  ['Democrats']                 \n",
       "178   ['Democrats']                 "
      ]
     },
     "execution_count": 26,
     "metadata": {},
     "output_type": "execute_result"
    }
   ],
   "source": [
    "#Republiacn\n",
    "df_repub=content_recommender('Republicans aim to turn congressional wins into seats after redistricting', cosine_sim2, df, indices2)\n",
    "df_democ=content_recommender('Democrats renew push for immigration bill', cosine_sim2, df, indices2)\n",
    "\n",
    "df_all=pd.concat([df_repub,df_democ])\n",
    "df_all[['title','parties']]\n",
    "#The first 10 rows is for Republican, and the second 10 rows is for Democrats"
   ]
  },
  {
   "cell_type": "code",
   "execution_count": null,
   "id": "d617822d",
   "metadata": {},
   "outputs": [],
   "source": [
    "df_all = df_all.iloc[: , 2:]"
   ]
  },
  {
   "cell_type": "code",
   "execution_count": null,
   "id": "e4ed28a2",
   "metadata": {},
   "outputs": [],
   "source": [
    "df_all"
   ]
  },
  {
   "cell_type": "code",
   "execution_count": null,
   "id": "be9a97c8",
   "metadata": {},
   "outputs": [],
   "source": [
    "df_all.to_csv('output/personalized_all_columns.csv')\n",
    "\n",
    "#remove last 4 columns to fit the databas\n",
    "output_df = df_all.iloc[: , :-6]\n",
    "output_df.to_csv('output/personalized_db.csv')"
   ]
  }
 ],
 "metadata": {
  "kernelspec": {
   "display_name": "info",
   "language": "python",
   "name": "info"
  },
  "language_info": {
   "codemirror_mode": {
    "name": "ipython",
    "version": 3
   },
   "file_extension": ".py",
   "mimetype": "text/x-python",
   "name": "python",
   "nbconvert_exporter": "python",
   "pygments_lexer": "ipython3",
   "version": "3.9.13"
  }
 },
 "nbformat": 4,
 "nbformat_minor": 5
}
