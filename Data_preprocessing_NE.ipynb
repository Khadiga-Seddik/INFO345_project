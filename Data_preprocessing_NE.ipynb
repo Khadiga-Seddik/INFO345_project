{
 "cells": [
  {
   "cell_type": "markdown",
   "id": "f1794691",
   "metadata": {},
   "source": [
    "NOTE: Run this file in \"info\" virtual environment and \"info\" kernel"
   ]
  },
  {
   "cell_type": "code",
   "execution_count": 38,
   "id": "805cdb4e",
   "metadata": {},
   "outputs": [
    {
     "name": "stderr",
     "output_type": "stream",
     "text": [
      "/var/folders/c5/ytjr01311kv_dj29wddc_rk40000gn/T/ipykernel_41039/3801349302.py:25: SettingWithCopyWarning: \n",
      "A value is trying to be set on a copy of a slice from a DataFrame.\n",
      "Try using .loc[row_indexer,col_indexer] = value instead\n",
      "\n",
      "See the caveats in the documentation: https://pandas.pydata.org/pandas-docs/stable/user_guide/indexing.html#returning-a-view-versus-a-copy\n",
      "  filtered_df['parties'] = parties_list\n"
     ]
    }
   ],
   "source": [
    "import pandas as pd\n",
    "\n",
    "df=pd.read_csv('../dataset/original_corpus_Jeng.csv')\n",
    "df=df.reset_index()  # make sure indexes pair with number of rows\n",
    "\n",
    "parties_list=[]\n",
    "\n",
    "df['title']=df['title'].astype('str')\n",
    "\n",
    "for index, row in df.iterrows():\n",
    "    parties=[]\n",
    "    title = row['title']\n",
    "\n",
    "    if \"Democrats\" in title:\n",
    "        parties.append(\"Democrats\")\n",
    "    if \"Republicans\" in title:\n",
    "        parties.append(\"Republicans\")\n",
    "    if len(parties)>0:\n",
    "        parties_list.append(parties)\n",
    "\n",
    "df = df.set_index('id')\n",
    "df=df.drop(columns=['index'])\n",
    "\n",
    "filtered_df = df[df['title'].str.contains('Democrats') | df['title'].str.contains('Republicans')]\n",
    "filtered_df['parties'] = parties_list"
   ]
  },
  {
   "cell_type": "markdown",
   "id": "060c7d21",
   "metadata": {},
   "source": [
    "We want to add dataframe with articles that doesn't contain any names of political parties\n",
    "- Take sample of random articles = 1000\n",
    "- Select articels that don't contain any names of political parties in their titles\n",
    "We do that to balance the dataset. (≈1000 doc with \"Democrats\", ≈1000 with \"Republicans\", and ≈1000 without any parties)"
   ]
  },
  {
   "cell_type": "code",
   "execution_count": 39,
   "id": "2b4243da",
   "metadata": {},
   "outputs": [],
   "source": [
    "noParties_df1000 = df.sample(n=1000)\n",
    "\n",
    "flag_list=[]\n",
    "for index, r in noParties_df1000.iterrows():\n",
    "    flag=\"t\"\n",
    "    t=r['title']\n",
    "\n",
    "    flag=\"f\" if (\"Democrats\" in t) or (\"Republicans\" in t) else \"t\"\n",
    "    flag_list.append(flag)"
   ]
  },
  {
   "cell_type": "markdown",
   "id": "c2178cf7",
   "metadata": {},
   "source": [
    "Only choose articels that don't contain names of parties in their title (e.g. flag=\"t\")"
   ]
  },
  {
   "cell_type": "code",
   "execution_count": 40,
   "id": "73851140",
   "metadata": {},
   "outputs": [
    {
     "data": {
      "text/plain": [
       "(958, 13)"
      ]
     },
     "execution_count": 40,
     "metadata": {},
     "output_type": "execute_result"
    }
   ],
   "source": [
    "noParties_df1000['flag'] = flag_list\n",
    "noParties_df1000=noParties_df1000[noParties_df1000['flag']==\"t\"]\n",
    "\n",
    "noParties_df1000=noParties_df1000.drop(columns=['flag']) \n",
    "noParties_df1000.shape"
   ]
  },
  {
   "cell_type": "code",
   "execution_count": 41,
   "id": "d8178f5a",
   "metadata": {},
   "outputs": [
    {
     "data": {
      "text/plain": [
       "[Republicans]               1005\n",
       "[]                           958\n",
       "[Democrats]                  913\n",
       "[Democrats, Republicans]      88\n",
       "Name: parties, dtype: int64"
      ]
     },
     "execution_count": 41,
     "metadata": {},
     "output_type": "execute_result"
    }
   ],
   "source": [
    "#add parties column to merge this dataframe with the original one\n",
    "noParties_df1000['parties'] = \"[]\"\n",
    "\n",
    "final_df=pd.concat([filtered_df,noParties_df1000]) #merge both dataframes\n",
    "final_df=final_df[final_df['category']=='Politics'] #filter \n",
    "\n",
    "final_df['parties'].value_counts()\n",
    "# final_df.head()"
   ]
  },
  {
   "cell_type": "markdown",
   "id": "da4f10b5",
   "metadata": {},
   "source": [
    "Now we will add Named-entities"
   ]
  },
  {
   "cell_type": "code",
   "execution_count": 52,
   "id": "c70713cd",
   "metadata": {},
   "outputs": [],
   "source": [
    "##########################\n",
    "#These two lines are very importantto run spaCy witout conflict\n",
    "import os\n",
    "os.environ['KMP_DUPLICATE_LIB_OK']='True'\n",
    "########################\n",
    "\n",
    "import spacy\n",
    "from spacy.lang.en.examples import sentences \n",
    "nlp = spacy.load(\"en_core_web_trf\" ,disable=[\"parser\"])  #English model"
   ]
  },
  {
   "cell_type": "markdown",
   "id": "29616a81",
   "metadata": {},
   "source": [
    "Function to extract named-entities from text.\n",
    "We extracted named entities like persons, organizations, and events, and ignore the other named entities like money, date, or miscellaneous."
   ]
  },
  {
   "cell_type": "code",
   "execution_count": 43,
   "id": "260f3c4d",
   "metadata": {},
   "outputs": [],
   "source": [
    "def generate_NE (text):\n",
    "\n",
    "    labels = ['PERSON','NORP', 'FAC', 'ORG', 'GPE', 'LOC', 'PRODUCT',\n",
    "              'EVENT', 'WORK_OF_ART', 'LAW']\n",
    "    \n",
    "    ne_list = []\n",
    "    \n",
    "    #Extract NEs\n",
    "    nlp_line = nlp.pipe(text) \n",
    "\n",
    "    #Select only entities in the list of labels and ignore the other types of entities\n",
    "    for ent in nlp_line.ents:\n",
    "        if labels.count(ent.label_):\n",
    "            ne_list.append({ent.text:ent.label_})\n",
    "    return ne_list"
   ]
  },
  {
   "cell_type": "code",
   "execution_count": null,
   "id": "05f2b418",
   "metadata": {
    "scrolled": true
   },
   "outputs": [],
   "source": [
    "final_df=final_df.reset_index()  # make sure indexes pair with number of rows\n",
    "\n",
    "NE_list=[]\n",
    "\n",
    "for index, row in final_df.iterrows():\n",
    "    ne=generate_NE(row['text']) \n",
    "    NE_list.append(ne)\n",
    "    print(row['id'])\n",
    "    \n",
    "final_df['NE']=NE_list"
   ]
  },
  {
   "cell_type": "markdown",
   "id": "a14acc58",
   "metadata": {},
   "source": [
    "I noticed that there are duplicates in NE's list. so I wrote this function to remove duplicates"
   ]
  },
  {
   "cell_type": "code",
   "execution_count": 63,
   "id": "99d368d4",
   "metadata": {},
   "outputs": [
    {
     "data": {
      "text/plain": [
       "0    [CAMBRIDGE, Md., Obama, Biden, Democrats, Repu...\n",
       "1    [Republicans, Obama, House Budget Committee, P...\n",
       "2    [GOP, Super Tuesday, Congress, Ohio, Republica...\n",
       "3    [Illinois, Democrats, Republican, House, Chica...\n",
       "4    [House, Republican, Democrats, Rosalind Helder...\n",
       "Name: NE, dtype: object"
      ]
     },
     "execution_count": 63,
     "metadata": {},
     "output_type": "execute_result"
    }
   ],
   "source": [
    "def remove_duplicates(mlist):\n",
    "    return list(dict.fromkeys(mlist))\n",
    "\n",
    "final_df['NE'] = final_df['NE'].apply(remove_duplicates)\n",
    "final_df['NE'].head(5)"
   ]
  },
  {
   "cell_type": "code",
   "execution_count": 65,
   "id": "56d89047",
   "metadata": {},
   "outputs": [],
   "source": [
    "final_df.to_csv(\"../dataset/corpus_with_parties_NE_24.10.2022.csv\", encoding='utf-8')"
   ]
  }
 ],
 "metadata": {
  "kernelspec": {
   "display_name": "Python 3 (ipykernel)",
   "language": "python",
   "name": "python3"
  },
  "language_info": {
   "codemirror_mode": {
    "name": "ipython",
    "version": 3
   },
   "file_extension": ".py",
   "mimetype": "text/x-python",
   "name": "python",
   "nbconvert_exporter": "python",
   "pygments_lexer": "ipython3",
   "version": "3.9.13"
  }
 },
 "nbformat": 4,
 "nbformat_minor": 5
}
