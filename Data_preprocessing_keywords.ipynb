{
 "cells": [
  {
   "cell_type": "markdown",
   "id": "db299bd9",
   "metadata": {},
   "source": [
    "Now, we will extract \"Keywords\" from the articles' text and add it to the dataframe as \"feature\"."
   ]
  },
  {
   "cell_type": "markdown",
   "id": "81207883",
   "metadata": {},
   "source": [
    "IMPORTANT: Activate \"keyBERT_env\" virtual environment to run KeyBERT"
   ]
  },
  {
   "cell_type": "code",
   "execution_count": 1,
   "id": "32b79e23",
   "metadata": {},
   "outputs": [],
   "source": [
    "import pandas as pd\n",
    "from keybert import KeyBERT\n",
    "kw_model = KeyBERT()"
   ]
  },
  {
   "cell_type": "code",
   "execution_count": 22,
   "id": "754e7720",
   "metadata": {},
   "outputs": [],
   "source": [
    "df=pd.read_csv(\"../dataset/corpus_with_parties_NE_24.10.2022.csv\", encoding='utf-8')"
   ]
  },
  {
   "cell_type": "code",
   "execution_count": 27,
   "id": "6e9714f3",
   "metadata": {},
   "outputs": [
    {
     "data": {
      "text/plain": [
       "0       [biden, gop, lawmakers, speeches, chesapeake, ...\n",
       "1       [debt, obama, boehner, proposal, blueprint, wa...\n",
       "2       [redistricting, gop, mccain, ohio, strong, rea...\n",
       "3       [illinois, campaigning, gop, veterans, kinzing...\n",
       "4       [fiscal, medicaid, committees, reductions, gop...\n",
       "                              ...                        \n",
       "2959    [emails, presidency, obliviousness, subpoena, ...\n",
       "2960    [bowling, gsa, infrastructure, bankruptcy, bus...\n",
       "2961    [bosnia, mccain, crossroads, statesmen, atlant...\n",
       "2962    [jindal, paris, terrorism, gop, boris, speech,...\n",
       "2963    [presidential, conservatism, jeb, sen, turn, m...\n",
       "Name: keywords, Length: 2964, dtype: object"
      ]
     },
     "execution_count": 27,
     "metadata": {},
     "output_type": "execute_result"
    }
   ],
   "source": [
    "df=df.reset_index()  # make sure indexes pair with number of rows\n",
    "Keywords_list=[]\n",
    "df['text']=df['text'].astype('str')\n",
    "\n",
    "for index, row in df.iterrows():\n",
    "    newl=[]\n",
    "    keywords = kw_model.extract_keywords(row['text'], keyphrase_ngram_range=(1, 1), stop_words='english',\n",
    "                              use_mmr=True, diversity=0.7, top_n=20)\n",
    "    [newl.append(x[0]) for x in keywords]\n",
    "    Keywords_list.append(newl)\n",
    "    \n",
    "df['keywords']=Keywords_list\n",
    "df['keywords']"
   ]
  },
  {
   "cell_type": "code",
   "execution_count": 33,
   "id": "415ad9d6",
   "metadata": {},
   "outputs": [],
   "source": [
    "df[['id','keywords']].to_csv('../dataset/keywords.csv', encoding='utf-8')"
   ]
  }
 ],
 "metadata": {
  "kernelspec": {
   "display_name": "Python 3 (ipykernel)",
   "language": "python",
   "name": "python3"
  },
  "language_info": {
   "codemirror_mode": {
    "name": "ipython",
    "version": 3
   },
   "file_extension": ".py",
   "mimetype": "text/x-python",
   "name": "python",
   "nbconvert_exporter": "python",
   "pygments_lexer": "ipython3",
   "version": "3.9.13"
  }
 },
 "nbformat": 4,
 "nbformat_minor": 5
}
